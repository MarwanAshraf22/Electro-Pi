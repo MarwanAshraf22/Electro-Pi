{
 "cells": [
  {
   "cell_type": "code",
   "execution_count": 1,
   "id": "ac3c939d",
   "metadata": {},
   "outputs": [],
   "source": [
    "import warnings\n",
    "warnings.filterwarnings(\"ignore\")"
   ]
  },
  {
   "cell_type": "code",
   "execution_count": 2,
   "id": "1306a071",
   "metadata": {},
   "outputs": [],
   "source": [
    "def install_libraries() :\n",
    " \n",
    "    libraries_to_install = [\"numpy\",\"pandas\",\"matplotlib\",\"seaborn\",\"scikit-learn\"]\n",
    "\n",
    "    for library in libraries_to_install:\n",
    "        try:\n",
    "            __import__(library)\n",
    "            print(f\"{library} is already installed.\")\n",
    "            \n",
    "        except ImportError:\n",
    "            !pip install {library}"
   ]
  },
  {
   "cell_type": "code",
   "execution_count": 3,
   "id": "5074fd6a",
   "metadata": {},
   "outputs": [
    {
     "name": "stdout",
     "output_type": "stream",
     "text": [
      "numpy is already installed.\n",
      "pandas is already installed.\n",
      "matplotlib is already installed.\n",
      "seaborn is already installed.\n",
      "Requirement already satisfied: scikit-learn in c:\\users\\user\\anaconda3\\lib\\site-packages (1.2.2)\n",
      "Requirement already satisfied: numpy>=1.17.3 in c:\\users\\user\\anaconda3\\lib\\site-packages (from scikit-learn) (1.24.1)\n",
      "Requirement already satisfied: scipy>=1.3.2 in c:\\users\\user\\anaconda3\\lib\\site-packages (from scikit-learn) (1.10.1)\n",
      "Requirement already satisfied: joblib>=1.1.1 in c:\\users\\user\\anaconda3\\lib\\site-packages (from scikit-learn) (1.2.0)\n",
      "Requirement already satisfied: threadpoolctl>=2.0.0 in c:\\users\\user\\anaconda3\\lib\\site-packages (from scikit-learn) (2.2.0)\n"
     ]
    }
   ],
   "source": [
    "install_libraries()"
   ]
  },
  {
   "cell_type": "code",
   "execution_count": 4,
   "id": "7437fe41",
   "metadata": {},
   "outputs": [],
   "source": [
    "def import_libraries():\n",
    "    \n",
    "    try :\n",
    "        import numpy as np\n",
    "        import pandas as pd\n",
    "        import matplotlib.pyplot as plt\n",
    "        import seaborn as sns\n",
    "        print('numpy,pandas,matplotlib and seaborn have been imported successfully')\n",
    "        return np,pd,plt,sns\n",
    "    \n",
    "    except  : \n",
    "        print('Please install the libraries first to install the packages please use this function (install_libraries)')\n",
    "        return None\n",
    "    "
   ]
  },
  {
   "cell_type": "code",
   "execution_count": 5,
   "id": "8b315ddf",
   "metadata": {},
   "outputs": [
    {
     "name": "stdout",
     "output_type": "stream",
     "text": [
      "numpy,pandas,matplotlib and seaborn have been imported successfully\n"
     ]
    }
   ],
   "source": [
    "np,pd,plt,sns=import_libraries()"
   ]
  },
  {
   "cell_type": "code",
   "execution_count": 5,
   "id": "e59f9b10",
   "metadata": {},
   "outputs": [],
   "source": [
    "import pandas as pd\n",
    "\n",
    "def read_data():\n",
    "    while True:\n",
    "        data_type = input(\"Enter the data type (csv, excel, sql): \").lower()\n",
    "        \n",
    "        if data_type not in ['csv', 'excel', 'sql']:\n",
    "            print(\"Unsupported data type. Supported types: 'csv', 'excel', 'sql'\")\n",
    "            continue\n",
    "        \n",
    "        data_path = input(\"Enter the path to the data file: \")\n",
    "        \n",
    "        try:\n",
    "            if data_type == 'csv':\n",
    "                data = pd.read_csv(data_path)\n",
    "            elif data_type == 'excel':\n",
    "                data = pd.read_excel(data_path)\n",
    "            elif data_type == 'sql':\n",
    "                print(\"Note: Reading from SQL databases requires additional setup.\")\n",
    "                data = None  # Placeholder for SQL data loading\n",
    "        except FileNotFoundError:\n",
    "            print(\"File not found. Please check the file path.\")\n",
    "            continue\n",
    "        \n",
    "        print(\"Your data has been loaded\")\n",
    "        return data\n",
    "\n"
   ]
  },
  {
   "cell_type": "code",
   "execution_count": 8,
   "id": "006ffb4e",
   "metadata": {},
   "outputs": [
    {
     "name": "stdout",
     "output_type": "stream",
     "text": [
      "Enter the data type (csv, excel, sql): csv\n",
      "Enter the path to the data file: C:\\Users\\user\\Documents\\GitHub\\Electro-Pi\\Auto EDA\\International_Report_Passengers.csv\n",
      "Your data has been loaded\n"
     ]
    }
   ],
   "source": [
    "df = read_data()"
   ]
  },
  {
   "cell_type": "code",
   "execution_count": 10,
   "id": "ee8dc9e9",
   "metadata": {},
   "outputs": [
    {
     "data": {
      "text/html": [
       "<div>\n",
       "<style scoped>\n",
       "    .dataframe tbody tr th:only-of-type {\n",
       "        vertical-align: middle;\n",
       "    }\n",
       "\n",
       "    .dataframe tbody tr th {\n",
       "        vertical-align: top;\n",
       "    }\n",
       "\n",
       "    .dataframe thead th {\n",
       "        text-align: right;\n",
       "    }\n",
       "</style>\n",
       "<table border=\"1\" class=\"dataframe\">\n",
       "  <thead>\n",
       "    <tr style=\"text-align: right;\">\n",
       "      <th></th>\n",
       "      <th>data_dte</th>\n",
       "      <th>Year</th>\n",
       "      <th>Month</th>\n",
       "      <th>usg_apt_id</th>\n",
       "      <th>usg_apt</th>\n",
       "      <th>usg_wac</th>\n",
       "      <th>fg_apt_id</th>\n",
       "      <th>fg_apt</th>\n",
       "      <th>fg_wac</th>\n",
       "      <th>airlineid</th>\n",
       "      <th>carrier</th>\n",
       "      <th>carriergroup</th>\n",
       "      <th>type</th>\n",
       "      <th>Scheduled</th>\n",
       "      <th>Charter</th>\n",
       "      <th>Total</th>\n",
       "    </tr>\n",
       "  </thead>\n",
       "  <tbody>\n",
       "    <tr>\n",
       "      <th>0</th>\n",
       "      <td>05/01/2014</td>\n",
       "      <td>2014</td>\n",
       "      <td>5</td>\n",
       "      <td>14492</td>\n",
       "      <td>RDU</td>\n",
       "      <td>36</td>\n",
       "      <td>11032</td>\n",
       "      <td>CUN</td>\n",
       "      <td>148</td>\n",
       "      <td>19534</td>\n",
       "      <td>AM</td>\n",
       "      <td>0</td>\n",
       "      <td>Passengers</td>\n",
       "      <td>0</td>\n",
       "      <td>315</td>\n",
       "      <td>315</td>\n",
       "    </tr>\n",
       "    <tr>\n",
       "      <th>1</th>\n",
       "      <td>06/01/2007</td>\n",
       "      <td>2007</td>\n",
       "      <td>6</td>\n",
       "      <td>13204</td>\n",
       "      <td>MCO</td>\n",
       "      <td>33</td>\n",
       "      <td>16085</td>\n",
       "      <td>YHZ</td>\n",
       "      <td>951</td>\n",
       "      <td>20364</td>\n",
       "      <td>C6</td>\n",
       "      <td>0</td>\n",
       "      <td>Passengers</td>\n",
       "      <td>0</td>\n",
       "      <td>683</td>\n",
       "      <td>683</td>\n",
       "    </tr>\n",
       "    <tr>\n",
       "      <th>2</th>\n",
       "      <td>12/01/2005</td>\n",
       "      <td>2005</td>\n",
       "      <td>12</td>\n",
       "      <td>11433</td>\n",
       "      <td>DTW</td>\n",
       "      <td>43</td>\n",
       "      <td>10411</td>\n",
       "      <td>AUA</td>\n",
       "      <td>277</td>\n",
       "      <td>20344</td>\n",
       "      <td>RD</td>\n",
       "      <td>1</td>\n",
       "      <td>Passengers</td>\n",
       "      <td>0</td>\n",
       "      <td>1010</td>\n",
       "      <td>1010</td>\n",
       "    </tr>\n",
       "    <tr>\n",
       "      <th>3</th>\n",
       "      <td>04/01/2003</td>\n",
       "      <td>2003</td>\n",
       "      <td>4</td>\n",
       "      <td>13487</td>\n",
       "      <td>MSP</td>\n",
       "      <td>63</td>\n",
       "      <td>16304</td>\n",
       "      <td>ZIH</td>\n",
       "      <td>148</td>\n",
       "      <td>20204</td>\n",
       "      <td>MG</td>\n",
       "      <td>1</td>\n",
       "      <td>Passengers</td>\n",
       "      <td>0</td>\n",
       "      <td>508</td>\n",
       "      <td>508</td>\n",
       "    </tr>\n",
       "    <tr>\n",
       "      <th>4</th>\n",
       "      <td>12/01/2005</td>\n",
       "      <td>2005</td>\n",
       "      <td>12</td>\n",
       "      <td>12016</td>\n",
       "      <td>GUM</td>\n",
       "      <td>5</td>\n",
       "      <td>11138</td>\n",
       "      <td>CRK</td>\n",
       "      <td>766</td>\n",
       "      <td>20312</td>\n",
       "      <td>TZ</td>\n",
       "      <td>1</td>\n",
       "      <td>Passengers</td>\n",
       "      <td>0</td>\n",
       "      <td>76</td>\n",
       "      <td>76</td>\n",
       "    </tr>\n",
       "  </tbody>\n",
       "</table>\n",
       "</div>"
      ],
      "text/plain": [
       "     data_dte  Year  Month  usg_apt_id usg_apt  usg_wac  fg_apt_id fg_apt  \\\n",
       "0  05/01/2014  2014      5       14492     RDU       36      11032    CUN   \n",
       "1  06/01/2007  2007      6       13204     MCO       33      16085    YHZ   \n",
       "2  12/01/2005  2005     12       11433     DTW       43      10411    AUA   \n",
       "3  04/01/2003  2003      4       13487     MSP       63      16304    ZIH   \n",
       "4  12/01/2005  2005     12       12016     GUM        5      11138    CRK   \n",
       "\n",
       "   fg_wac  airlineid carrier  carriergroup        type  Scheduled  Charter  \\\n",
       "0     148      19534      AM             0  Passengers          0      315   \n",
       "1     951      20364      C6             0  Passengers          0      683   \n",
       "2     277      20344      RD             1  Passengers          0     1010   \n",
       "3     148      20204      MG             1  Passengers          0      508   \n",
       "4     766      20312      TZ             1  Passengers          0       76   \n",
       "\n",
       "   Total  \n",
       "0    315  \n",
       "1    683  \n",
       "2   1010  \n",
       "3    508  \n",
       "4     76  "
      ]
     },
     "execution_count": 10,
     "metadata": {},
     "output_type": "execute_result"
    }
   ],
   "source": [
    "df.head()"
   ]
  },
  {
   "cell_type": "code",
   "execution_count": 11,
   "id": "25b03d88",
   "metadata": {},
   "outputs": [
    {
     "data": {
      "text/plain": [
       "data_dte        0\n",
       "Year            0\n",
       "Month           0\n",
       "usg_apt_id      0\n",
       "usg_apt         0\n",
       "usg_wac         0\n",
       "fg_apt_id       0\n",
       "fg_apt          0\n",
       "fg_wac          0\n",
       "airlineid       0\n",
       "carrier         0\n",
       "carriergroup    0\n",
       "type            0\n",
       "Scheduled       0\n",
       "Charter         0\n",
       "Total           0\n",
       "dtype: int64"
      ]
     },
     "execution_count": 11,
     "metadata": {},
     "output_type": "execute_result"
    }
   ],
   "source": [
    "df.isna().sum()"
   ]
  },
  {
   "cell_type": "code",
   "execution_count": 12,
   "id": "43d78f78",
   "metadata": {},
   "outputs": [
    {
     "data": {
      "text/plain": [
       "(5, 16)"
      ]
     },
     "execution_count": 12,
     "metadata": {},
     "output_type": "execute_result"
    }
   ],
   "source": [
    "df.shape"
   ]
  },
  {
   "cell_type": "code",
   "execution_count": 13,
   "id": "10477b99",
   "metadata": {},
   "outputs": [
    {
     "data": {
      "text/plain": [
       "data_dte        object\n",
       "Year             int64\n",
       "Month            int64\n",
       "usg_apt_id       int64\n",
       "usg_apt         object\n",
       "usg_wac          int64\n",
       "fg_apt_id        int64\n",
       "fg_apt          object\n",
       "fg_wac           int64\n",
       "airlineid        int64\n",
       "carrier         object\n",
       "carriergroup     int64\n",
       "type            object\n",
       "Scheduled        int64\n",
       "Charter          int64\n",
       "Total            int64\n",
       "dtype: object"
      ]
     },
     "execution_count": 13,
     "metadata": {},
     "output_type": "execute_result"
    }
   ],
   "source": [
    "df.dtypes"
   ]
  },
  {
   "cell_type": "code",
   "execution_count": 13,
   "id": "caa05b79",
   "metadata": {},
   "outputs": [],
   "source": [
    "def handle_missing_values(dataframe,method,inplace=True):\n",
    "    \n",
    "    try :  \n",
    "        if method == 'mean' :\n",
    "            df = dataframe.fillna(dataframe.mean())\n",
    "            \n",
    "        elif method == 'median' :\n",
    "            df = dataframe.fillna(dataframe.median())\n",
    "            \n",
    "        elif method == 'drop' :\n",
    "            df = dataframe.dropna()\n",
    "            \n",
    "        else : \n",
    "            raise ValueError('Please enter type of handling mean, median or drop')\n",
    "            \n",
    "    except Exception as e:\n",
    "        print(f\"An error occurred: {e}\")\n",
    "        df = None     \n",
    "    \n",
    "    return df "
   ]
  },
  {
   "cell_type": "code",
   "execution_count": 14,
   "id": "dad0a313",
   "metadata": {},
   "outputs": [
    {
     "data": {
      "text/plain": [
       "(678188, 16)"
      ]
     },
     "execution_count": 14,
     "metadata": {},
     "output_type": "execute_result"
    }
   ],
   "source": [
    "handled_data = handle_missing_values(df, method='drop')"
   ]
  },
  {
   "cell_type": "code",
   "execution_count": 15,
   "id": "7899d6bc",
   "metadata": {},
   "outputs": [
    {
     "data": {
      "text/plain": [
       "data_dte        0\n",
       "Year            0\n",
       "Month           0\n",
       "usg_apt_id      0\n",
       "usg_apt         0\n",
       "usg_wac         0\n",
       "fg_apt_id       0\n",
       "fg_apt          0\n",
       "fg_wac          0\n",
       "airlineid       0\n",
       "carrier         0\n",
       "carriergroup    0\n",
       "type            0\n",
       "Scheduled       0\n",
       "Charter         0\n",
       "Total           0\n",
       "dtype: int64"
      ]
     },
     "execution_count": 15,
     "metadata": {},
     "output_type": "execute_result"
    }
   ],
   "source": [
    "handled_data.isna().sum()"
   ]
  },
  {
   "cell_type": "code",
   "execution_count": 16,
   "id": "687a83a5",
   "metadata": {},
   "outputs": [],
   "source": [
    "def handle_categorical_data (dataframe,method,inplace) :\n",
    "    \n",
    "    try : \n",
    "        df = dataframe if inplace else dataframe.copy()\n",
    "        columns = dataframe.select_dtypes(include=['object'])\n",
    "        \n",
    "        if method == 'OHE' :\n",
    "            df = pd.get_dummies(dataframe,columns)\n",
    "        elif method == 'LE' :\n",
    "            from sklearn.preprocessing import LabelEncoder\n",
    "            encoder = LabelEncoder()\n",
    "            for col in columns:\n",
    "                df[col] = encoder.fit_transform(dataframe[col])\n",
    "                \n",
    "        else:\n",
    "            raise ValueError('Invalid method. Please enter \"OHE\" for one hot encoder or \"LE\" for label encoder')\n",
    "            \n",
    "    except Exception as e:\n",
    "        print(f\"An error occurred: {e}\")\n",
    "        df = None\n",
    "        \n",
    "    return df"
   ]
  },
  {
   "cell_type": "code",
   "execution_count": 17,
   "id": "e32936bf",
   "metadata": {},
   "outputs": [],
   "source": [
    "handled_data = handle_categorical_data(handled_data,'LE',inplace=True)"
   ]
  },
  {
   "cell_type": "code",
   "execution_count": 18,
   "id": "57d390ae",
   "metadata": {},
   "outputs": [
    {
     "data": {
      "text/html": [
       "<div>\n",
       "<style scoped>\n",
       "    .dataframe tbody tr th:only-of-type {\n",
       "        vertical-align: middle;\n",
       "    }\n",
       "\n",
       "    .dataframe tbody tr th {\n",
       "        vertical-align: top;\n",
       "    }\n",
       "\n",
       "    .dataframe thead th {\n",
       "        text-align: right;\n",
       "    }\n",
       "</style>\n",
       "<table border=\"1\" class=\"dataframe\">\n",
       "  <thead>\n",
       "    <tr style=\"text-align: right;\">\n",
       "      <th></th>\n",
       "      <th>data_dte</th>\n",
       "      <th>Year</th>\n",
       "      <th>Month</th>\n",
       "      <th>usg_apt_id</th>\n",
       "      <th>usg_apt</th>\n",
       "      <th>usg_wac</th>\n",
       "      <th>fg_apt_id</th>\n",
       "      <th>fg_apt</th>\n",
       "      <th>fg_wac</th>\n",
       "      <th>airlineid</th>\n",
       "      <th>carrier</th>\n",
       "      <th>carriergroup</th>\n",
       "      <th>type</th>\n",
       "      <th>Scheduled</th>\n",
       "      <th>Charter</th>\n",
       "      <th>Total</th>\n",
       "    </tr>\n",
       "  </thead>\n",
       "  <tbody>\n",
       "    <tr>\n",
       "      <th>0</th>\n",
       "      <td>147</td>\n",
       "      <td>2014</td>\n",
       "      <td>5</td>\n",
       "      <td>14492</td>\n",
       "      <td>652</td>\n",
       "      <td>36</td>\n",
       "      <td>11032</td>\n",
       "      <td>259</td>\n",
       "      <td>148</td>\n",
       "      <td>19534</td>\n",
       "      <td>125</td>\n",
       "      <td>0</td>\n",
       "      <td>0</td>\n",
       "      <td>0</td>\n",
       "      <td>315</td>\n",
       "      <td>315</td>\n",
       "    </tr>\n",
       "    <tr>\n",
       "      <th>1</th>\n",
       "      <td>170</td>\n",
       "      <td>2007</td>\n",
       "      <td>6</td>\n",
       "      <td>13204</td>\n",
       "      <td>453</td>\n",
       "      <td>33</td>\n",
       "      <td>16085</td>\n",
       "      <td>1164</td>\n",
       "      <td>951</td>\n",
       "      <td>20364</td>\n",
       "      <td>160</td>\n",
       "      <td>0</td>\n",
       "      <td>0</td>\n",
       "      <td>0</td>\n",
       "      <td>683</td>\n",
       "      <td>683</td>\n",
       "    </tr>\n",
       "    <tr>\n",
       "      <th>2</th>\n",
       "      <td>348</td>\n",
       "      <td>2005</td>\n",
       "      <td>12</td>\n",
       "      <td>11433</td>\n",
       "      <td>187</td>\n",
       "      <td>43</td>\n",
       "      <td>10411</td>\n",
       "      <td>56</td>\n",
       "      <td>277</td>\n",
       "      <td>20344</td>\n",
       "      <td>436</td>\n",
       "      <td>1</td>\n",
       "      <td>0</td>\n",
       "      <td>0</td>\n",
       "      <td>1010</td>\n",
       "      <td>1010</td>\n",
       "    </tr>\n",
       "    <tr>\n",
       "      <th>3</th>\n",
       "      <td>106</td>\n",
       "      <td>2003</td>\n",
       "      <td>4</td>\n",
       "      <td>13487</td>\n",
       "      <td>500</td>\n",
       "      <td>63</td>\n",
       "      <td>16304</td>\n",
       "      <td>1287</td>\n",
       "      <td>148</td>\n",
       "      <td>20204</td>\n",
       "      <td>349</td>\n",
       "      <td>1</td>\n",
       "      <td>0</td>\n",
       "      <td>0</td>\n",
       "      <td>508</td>\n",
       "      <td>508</td>\n",
       "    </tr>\n",
       "    <tr>\n",
       "      <th>4</th>\n",
       "      <td>348</td>\n",
       "      <td>2005</td>\n",
       "      <td>12</td>\n",
       "      <td>12016</td>\n",
       "      <td>293</td>\n",
       "      <td>5</td>\n",
       "      <td>11138</td>\n",
       "      <td>242</td>\n",
       "      <td>766</td>\n",
       "      <td>20312</td>\n",
       "      <td>511</td>\n",
       "      <td>1</td>\n",
       "      <td>0</td>\n",
       "      <td>0</td>\n",
       "      <td>76</td>\n",
       "      <td>76</td>\n",
       "    </tr>\n",
       "  </tbody>\n",
       "</table>\n",
       "</div>"
      ],
      "text/plain": [
       "   data_dte  Year  Month  usg_apt_id  usg_apt  usg_wac  fg_apt_id  fg_apt  \\\n",
       "0       147  2014      5       14492      652       36      11032     259   \n",
       "1       170  2007      6       13204      453       33      16085    1164   \n",
       "2       348  2005     12       11433      187       43      10411      56   \n",
       "3       106  2003      4       13487      500       63      16304    1287   \n",
       "4       348  2005     12       12016      293        5      11138     242   \n",
       "\n",
       "   fg_wac  airlineid  carrier  carriergroup  type  Scheduled  Charter  Total  \n",
       "0     148      19534      125             0     0          0      315    315  \n",
       "1     951      20364      160             0     0          0      683    683  \n",
       "2     277      20344      436             1     0          0     1010   1010  \n",
       "3     148      20204      349             1     0          0      508    508  \n",
       "4     766      20312      511             1     0          0       76     76  "
      ]
     },
     "execution_count": 18,
     "metadata": {},
     "output_type": "execute_result"
    }
   ],
   "source": [
    "handled_data.head()"
   ]
  },
  {
   "cell_type": "code",
   "execution_count": 19,
   "id": "d9ce021c",
   "metadata": {},
   "outputs": [],
   "source": [
    "def scaling_data(dataframe,method,inplace):\n",
    "    \n",
    "    try : \n",
    "        df = dataframe if inplace else dataframe.copy()\n",
    "        \n",
    "        if method == 'min_max' :\n",
    "            from sklearn.preprocessing import MinMaxScaler\n",
    "            scaler = MinMaxScaler()\n",
    "            df = scaler.fit_transform(handled_data)\n",
    "            df = pd.DataFrame(df, columns = handled_data.columns)\n",
    "\n",
    "        \n",
    "        elif method == 'standard' :\n",
    "            from sklearn.preprocessing import StandardScaler\n",
    "            scaler = StandardScaler()\n",
    "            df = scaler.fit_transform(handled_data)\n",
    "            df = pd.DataFrame(df, columns = handled_data.columns)\n",
    "            \n",
    "        else:\n",
    "            raise ValueError('Invalid method. Please enter \"min_max\" or \"standard\" ')\n",
    "            \n",
    "    except Exception as e:\n",
    "        print(f\"An error occurred: {e}\")\n",
    "        df = None\n",
    "        \n",
    "    \n",
    "    return df\n",
    "\n"
   ]
  },
  {
   "cell_type": "code",
   "execution_count": 20,
   "id": "6563d0f0",
   "metadata": {},
   "outputs": [
    {
     "data": {
      "text/html": [
       "<div>\n",
       "<style scoped>\n",
       "    .dataframe tbody tr th:only-of-type {\n",
       "        vertical-align: middle;\n",
       "    }\n",
       "\n",
       "    .dataframe tbody tr th {\n",
       "        vertical-align: top;\n",
       "    }\n",
       "\n",
       "    .dataframe thead th {\n",
       "        text-align: right;\n",
       "    }\n",
       "</style>\n",
       "<table border=\"1\" class=\"dataframe\">\n",
       "  <thead>\n",
       "    <tr style=\"text-align: right;\">\n",
       "      <th></th>\n",
       "      <th>data_dte</th>\n",
       "      <th>Year</th>\n",
       "      <th>Month</th>\n",
       "      <th>usg_apt_id</th>\n",
       "      <th>usg_apt</th>\n",
       "      <th>usg_wac</th>\n",
       "      <th>fg_apt_id</th>\n",
       "      <th>fg_apt</th>\n",
       "      <th>fg_wac</th>\n",
       "      <th>airlineid</th>\n",
       "      <th>carrier</th>\n",
       "      <th>carriergroup</th>\n",
       "      <th>type</th>\n",
       "      <th>Scheduled</th>\n",
       "      <th>Charter</th>\n",
       "      <th>Total</th>\n",
       "    </tr>\n",
       "  </thead>\n",
       "  <tbody>\n",
       "    <tr>\n",
       "      <th>0</th>\n",
       "      <td>-0.310888</td>\n",
       "      <td>0.898772</td>\n",
       "      <td>-0.394140</td>\n",
       "      <td>0.682838</td>\n",
       "      <td>1.311775</td>\n",
       "      <td>-0.303480</td>\n",
       "      <td>-1.258269</td>\n",
       "      <td>-1.109211</td>\n",
       "      <td>-1.094926</td>\n",
       "      <td>-0.971225</td>\n",
       "      <td>-1.049933</td>\n",
       "      <td>-1.129131</td>\n",
       "      <td>0.0</td>\n",
       "      <td>-0.752303</td>\n",
       "      <td>0.124568</td>\n",
       "      <td>-0.746339</td>\n",
       "    </tr>\n",
       "    <tr>\n",
       "      <th>1</th>\n",
       "      <td>-0.091740</td>\n",
       "      <td>0.095614</td>\n",
       "      <td>-0.105699</td>\n",
       "      <td>0.170431</td>\n",
       "      <td>0.314147</td>\n",
       "      <td>-0.410318</td>\n",
       "      <td>1.324087</td>\n",
       "      <td>1.241363</td>\n",
       "      <td>1.645232</td>\n",
       "      <td>0.653907</td>\n",
       "      <td>-0.839658</td>\n",
       "      <td>-1.129131</td>\n",
       "      <td>0.0</td>\n",
       "      <td>-0.752303</td>\n",
       "      <td>0.510359</td>\n",
       "      <td>-0.703267</td>\n",
       "    </tr>\n",
       "    <tr>\n",
       "      <th>2</th>\n",
       "      <td>1.604275</td>\n",
       "      <td>-0.133859</td>\n",
       "      <td>1.624946</td>\n",
       "      <td>-0.534128</td>\n",
       "      <td>-1.019365</td>\n",
       "      <td>-0.054190</td>\n",
       "      <td>-1.575633</td>\n",
       "      <td>-1.636466</td>\n",
       "      <td>-0.654726</td>\n",
       "      <td>0.614747</td>\n",
       "      <td>0.818514</td>\n",
       "      <td>0.885637</td>\n",
       "      <td>0.0</td>\n",
       "      <td>-0.752303</td>\n",
       "      <td>0.853168</td>\n",
       "      <td>-0.664993</td>\n",
       "    </tr>\n",
       "    <tr>\n",
       "      <th>3</th>\n",
       "      <td>-0.701543</td>\n",
       "      <td>-0.363333</td>\n",
       "      <td>-0.682581</td>\n",
       "      <td>0.283017</td>\n",
       "      <td>0.549768</td>\n",
       "      <td>0.658068</td>\n",
       "      <td>1.436007</td>\n",
       "      <td>1.560833</td>\n",
       "      <td>-1.094926</td>\n",
       "      <td>0.340628</td>\n",
       "      <td>0.295830</td>\n",
       "      <td>0.885637</td>\n",
       "      <td>0.0</td>\n",
       "      <td>-0.752303</td>\n",
       "      <td>0.326899</td>\n",
       "      <td>-0.723750</td>\n",
       "    </tr>\n",
       "    <tr>\n",
       "      <th>4</th>\n",
       "      <td>1.604275</td>\n",
       "      <td>-0.133859</td>\n",
       "      <td>1.624946</td>\n",
       "      <td>-0.302192</td>\n",
       "      <td>-0.487966</td>\n",
       "      <td>-1.407479</td>\n",
       "      <td>-1.204097</td>\n",
       "      <td>-1.153365</td>\n",
       "      <td>1.013938</td>\n",
       "      <td>0.552091</td>\n",
       "      <td>1.269104</td>\n",
       "      <td>0.885637</td>\n",
       "      <td>0.0</td>\n",
       "      <td>-0.752303</td>\n",
       "      <td>-0.125986</td>\n",
       "      <td>-0.774313</td>\n",
       "    </tr>\n",
       "  </tbody>\n",
       "</table>\n",
       "</div>"
      ],
      "text/plain": [
       "   data_dte      Year     Month  usg_apt_id   usg_apt   usg_wac  fg_apt_id  \\\n",
       "0 -0.310888  0.898772 -0.394140    0.682838  1.311775 -0.303480  -1.258269   \n",
       "1 -0.091740  0.095614 -0.105699    0.170431  0.314147 -0.410318   1.324087   \n",
       "2  1.604275 -0.133859  1.624946   -0.534128 -1.019365 -0.054190  -1.575633   \n",
       "3 -0.701543 -0.363333 -0.682581    0.283017  0.549768  0.658068   1.436007   \n",
       "4  1.604275 -0.133859  1.624946   -0.302192 -0.487966 -1.407479  -1.204097   \n",
       "\n",
       "     fg_apt    fg_wac  airlineid   carrier  carriergroup  type  Scheduled  \\\n",
       "0 -1.109211 -1.094926  -0.971225 -1.049933     -1.129131   0.0  -0.752303   \n",
       "1  1.241363  1.645232   0.653907 -0.839658     -1.129131   0.0  -0.752303   \n",
       "2 -1.636466 -0.654726   0.614747  0.818514      0.885637   0.0  -0.752303   \n",
       "3  1.560833 -1.094926   0.340628  0.295830      0.885637   0.0  -0.752303   \n",
       "4 -1.153365  1.013938   0.552091  1.269104      0.885637   0.0  -0.752303   \n",
       "\n",
       "    Charter     Total  \n",
       "0  0.124568 -0.746339  \n",
       "1  0.510359 -0.703267  \n",
       "2  0.853168 -0.664993  \n",
       "3  0.326899 -0.723750  \n",
       "4 -0.125986 -0.774313  "
      ]
     },
     "execution_count": 20,
     "metadata": {},
     "output_type": "execute_result"
    }
   ],
   "source": [
    "scaled_df = scaling_data(handled_data,method='standard',inplace=True)\n",
    "scaled_df.head()"
   ]
  },
  {
   "cell_type": "code",
   "execution_count": 21,
   "id": "ac98894e",
   "metadata": {},
   "outputs": [],
   "source": [
    "def create_boxplot(data, column, title=None, x_label=None, y_label=None) :\n",
    "    \n",
    "    plt.figure(figsize=(8, 6))\n",
    "    plt.boxplot(data[column], vert=True)\n",
    "    plt.title(title if title else f\"Box Plot of {column}\")\n",
    "    plt.xlabel(x_label if x_label else column)\n",
    "    plt.ylabel(y_label if y_label else \"Values\")\n",
    "    plt.show()\n",
    "    "
   ]
  },
  {
   "cell_type": "code",
   "execution_count": 39,
   "id": "86f16e1f",
   "metadata": {},
   "outputs": [
    {
     "data": {
      "image/png": "[encoded data removed]",
      "text/plain": [
       "<Figure size 800x600 with 1 Axes>"
      ]
     },
     "metadata": {},
     "output_type": "display_data"
    }
   ],
   "source": [
    "create_boxplot(handled_data,column='fg_wac')"
   ]
  },
  {
   "cell_type": "code",
   "execution_count": 23,
   "id": "38f55c98",
   "metadata": {},
   "outputs": [
    {
     "data": {
      "image/png": "[encoded data removed]",
      "text/plain": [
       "<Figure size 800x600 with 1 Axes>"
      ]
     },
     "metadata": {},
     "output_type": "display_data"
    }
   ],
   "source": [
    "create_boxplot(handled_data,column='carrier')"
   ]
  },
  {
   "cell_type": "code",
   "execution_count": 29,
   "id": "8f63e226",
   "metadata": {},
   "outputs": [],
   "source": [
    "def create_barchart(data, x_column, y_column, title=None, x_label=None, y_label=None):\n",
    "\n",
    "    plt.figure(figsize=(8, 6))\n",
    "    plt.bar(data[x_column], data[y_column])\n",
    "    plt.title(title if title else f\"Bar Chart of {y_column} vs. {x_column}\")\n",
    "    plt.xlabel(x_label if x_label else x_column)\n",
    "    plt.ylabel(y_label if y_label else y_column)\n",
    "    plt.show()"
   ]
  },
  {
   "cell_type": "code",
   "execution_count": 31,
   "id": "0fbb884e",
   "metadata": {},
   "outputs": [
    {
     "data": {
      "image/png": "[encoded data removed]",
      "text/plain": [
       "<Figure size 800x600 with 1 Axes>"
      ]
     },
     "metadata": {},
     "output_type": "display_data"
    }
   ],
   "source": [
    "create_barchart(handled_data[0:1000],x_column = 'Month', y_column= 'Total') # I used from [0:1000] because it is taking for ever to run "
   ]
  },
  {
   "cell_type": "code",
   "execution_count": 32,
   "id": "c768f8ab",
   "metadata": {},
   "outputs": [],
   "source": [
    "def create_scatter(data, x_column, y_column, title=None, x_label=None, y_label=None, color='blue', alpha=0.5, size=30):\n",
    "    plt.figure(figsize=(8, 6))\n",
    "    plt.scatter(data[x_column], data[y_column], c=color, alpha=alpha, s=size)\n",
    "    plt.title(title if title else f\"Scatter Plot of {y_column} vs. {x_column}\")\n",
    "    plt.xlabel(x_label if x_label else x_column)\n",
    "    plt.ylabel(y_label if y_label else y_column)\n",
    "    plt.grid(True)\n",
    "    plt.show()"
   ]
  },
  {
   "cell_type": "code",
   "execution_count": 40,
   "id": "e062266c",
   "metadata": {},
   "outputs": [
    {
     "data": {
      "image/png": "[encoded data removed]",
      "text/plain": [
       "<Figure size 800x600 with 1 Axes>"
      ]
     },
     "metadata": {},
     "output_type": "display_data"
    }
   ],
   "source": [
    "create_scatter(handled_data[0:1000],x_column = 'fg_wac', y_column= 'Total') "
   ]
  },
  {
   "cell_type": "code",
   "execution_count": 56,
   "id": "f252c316",
   "metadata": {},
   "outputs": [],
   "source": [
    "def create_pie_chart(data, labels_column, sizes_column, title=None, colors=None, explode=None):\n",
    "    plt.figure(figsize=(8, 6))\n",
    "    plt.pie(data[sizes_column], labels=data[labels_column], explode=explode)\n",
    "    plt.axis('equal')  # Equal aspect ratio ensures that pie is drawn as a circle.\n",
    "    plt.title(title if title else f\"Pie Chart of {sizes_column} based on {labels_column}\")\n",
    "    plt.show()"
   ]
  },
  {
   "cell_type": "code",
   "execution_count": null,
   "id": "ada16e63",
   "metadata": {},
   "outputs": [],
   "source": []
  },
  {
   "cell_type": "code",
   "execution_count": null,
   "id": "640e8169",
   "metadata": {},
   "outputs": [],
   "source": []
  }
 ],
 "metadata": {
  "kernelspec": {
   "display_name": "Python 3 (ipykernel)",
   "language": "python",
   "name": "python3"
  },
  "language_info": {
   "codemirror_mode": {
    "name": "ipython",
    "version": 3
   },
   "file_extension": ".py",
   "mimetype": "text/x-python",
   "name": "python",
   "nbconvert_exporter": "python",
   "pygments_lexer": "ipython3",
   "version": "3.11.3"
  }
 },
 "nbformat": 4,
 "nbformat_minor": 5
}
