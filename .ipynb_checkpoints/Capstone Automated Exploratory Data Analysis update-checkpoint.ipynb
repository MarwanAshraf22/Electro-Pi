{
 "cells": [
  {
   "cell_type": "code",
   "execution_count": null,
   "id": "adf3929a",
   "metadata": {},
   "outputs": [],
   "source": [
    "import pandas as pd\n",
    "import numpy as np\n",
    "import matplotlib.pyplot as plt\n",
    "import seaborn as sns\n",
    "from sklearn.preprocessing import LabelEncoder,OneHotEncoder"
   ]
  },
  {
   "cell_type": "code",
   "execution_count": null,
   "id": "25d20696",
   "metadata": {},
   "outputs": [],
   "source": [
    "class AutoEDA:\n",
    "    def __init__(self, dataframe):\n",
    "        self.dataframe = dataframe\n",
    "\n",
    "    def read_data(self):\n",
    "        while True:\n",
    "            data_type = input(\"Enter the data type (csv, excel): \").lower()\n",
    "            \n",
    "            if data_type not in ['csv', 'excel']:\n",
    "                print(\"Unsupported data type. Supported types: 'csv', 'excel'\")\n",
    "                continue\n",
    "            \n",
    "            data_path = input(\"Enter the path to the data file: \")\n",
    "            \n",
    "            try:\n",
    "                if data_type == 'csv':\n",
    "                    data = pd.read_csv(data_path)\n",
    "                elif data_type == 'excel':\n",
    "                    data = pd.read_excel(data_path)\n",
    "            except FileNotFoundError:\n",
    "                print(\"File not found. Please check the file path.\")\n",
    "                continue\n",
    "            \n",
    "            print(\"Your data has been loaded\")\n",
    "            return data\n",
    "\n",
    "    def handle_missing_values(self, method, inplace=True):\n",
    "        \n",
    "        \n",
    "        try:\n",
    "            \n",
    "            df = self.dataframe if inplace else self.dataframe.copy()\n",
    "            if method == 'mean':\n",
    "                df.fillna(df.mean(), inplace=True)\n",
    "            elif method == 'median':\n",
    "                df.fillna(df.median(), inplace=True)\n",
    "            elif method == 'drop':\n",
    "                df.dropna(inplace=True)\n",
    "            else:\n",
    "                raise ValueError('Please enter method as \"mean\", \"median\", or \"drop\"')\n",
    "        except Exception as e:\n",
    "            print(f\"An error occurred: {e}\")\n",
    "            df = None\n",
    "        return df\n",
    "\n",
    "\n",
    "\n",
    "\n",
    "\n",
    "def main():\n",
    "\n",
    "    eda_tool = AutoEDA(dataframe=None)\n",
    "    loaded_data = eda_tool.read_data()\n",
    "    print(\"Loaded Data:\")\n",
    "    print(pd.DataFrame(loaded_data.head()))\n",
    "\n",
    "\n",
    "    \n",
    "\n",
    "\n",
    "\n",
    "if __name__ == \"__main__\":\n",
    "    main()"
   ]
  },
  {
   "cell_type": "code",
   "execution_count": null,
   "id": "4f96aae7",
   "metadata": {},
   "outputs": [],
   "source": [
    "auto_eda = AutoEDA(None)\n",
    "\n",
    "# Use the read_data method to load data\n",
    "loaded_data = auto_eda.read_data()\n",
    "\n",
    "# Now, the loaded_data variable holds the DataFrame that was read from the file\n",
    "print(loaded_data.head())"
   ]
  },
  {
   "cell_type": "code",
   "execution_count": null,
   "id": "3fd62a55",
   "metadata": {},
   "outputs": [],
   "source": []
  }
 ],
 "metadata": {
  "kernelspec": {
   "display_name": "Python 3 (ipykernel)",
   "language": "python",
   "name": "python3"
  },
  "language_info": {
   "codemirror_mode": {
    "name": "ipython",
    "version": 3
   },
   "file_extension": ".py",
   "mimetype": "text/x-python",
   "name": "python",
   "nbconvert_exporter": "python",
   "pygments_lexer": "ipython3",
   "version": "3.11.3"
  }
 },
 "nbformat": 4,
 "nbformat_minor": 5
}
