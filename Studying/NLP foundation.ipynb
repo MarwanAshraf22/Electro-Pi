{
 "cells": [
  {
   "cell_type": "code",
   "execution_count": 1,
   "id": "a413c5eb",
   "metadata": {},
   "outputs": [],
   "source": [
    "import nltk"
   ]
  },
  {
   "cell_type": "code",
   "execution_count": 2,
   "id": "c2185b43",
   "metadata": {
    "scrolled": true
   },
   "outputs": [
    {
     "name": "stdout",
     "output_type": "stream",
     "text": [
      "showing info https://raw.githubusercontent.com/nltk/nltk_data/gh-pages/index.xml\n"
     ]
    },
    {
     "data": {
      "text/plain": [
       "True"
      ]
     },
     "execution_count": 2,
     "metadata": {},
     "output_type": "execute_result"
    }
   ],
   "source": [
    "nltk.download()"
   ]
  },
  {
   "cell_type": "code",
   "execution_count": 9,
   "id": "04176ee9",
   "metadata": {},
   "outputs": [
    {
     "data": {
      "text/plain": [
       "['i',\n",
       " 'like',\n",
       " 'to',\n",
       " 'play',\n",
       " 'football',\n",
       " '.',\n",
       " 'also',\n",
       " 'i',\n",
       " 'like',\n",
       " 'soccer',\n",
       " '.']"
      ]
     },
     "execution_count": 9,
     "metadata": {},
     "output_type": "execute_result"
    }
   ],
   "source": [
    "sent= 'i like to play football. also i like soccer.'\n",
    "\n",
    "nltk.word_tokenize(sent)"
   ]
  },
  {
   "cell_type": "code",
   "execution_count": 10,
   "id": "a6e56fa4",
   "metadata": {},
   "outputs": [
    {
     "data": {
      "text/plain": [
       "['i like to play football.', 'also i like soccer.']"
      ]
     },
     "execution_count": 10,
     "metadata": {},
     "output_type": "execute_result"
    }
   ],
   "source": [
    "nltk.sent_tokenize(sent)"
   ]
  },
  {
   "cell_type": "code",
   "execution_count": 28,
   "id": "295a9ad6",
   "metadata": {},
   "outputs": [],
   "source": [
    "sent = 'I myself like to play football'\n"
   ]
  },
  {
   "cell_type": "code",
   "execution_count": 34,
   "id": "9b27847c",
   "metadata": {},
   "outputs": [],
   "source": [
    "from nltk.corpus import stopwords,wordnet\n",
    "stopword = stopwords.words('english')"
   ]
  },
  {
   "cell_type": "code",
   "execution_count": 30,
   "id": "064a81f4",
   "metadata": {},
   "outputs": [
    {
     "data": {
      "text/plain": [
       "['I', 'like', 'play', 'football']"
      ]
     },
     "execution_count": 30,
     "metadata": {},
     "output_type": "execute_result"
    }
   ],
   "source": [
    "[w for w in nltk.word_tokenize(sent) if w not in stopword]"
   ]
  },
  {
   "cell_type": "code",
   "execution_count": 31,
   "id": "962a4547",
   "metadata": {},
   "outputs": [
    {
     "data": {
      "text/plain": [
       "'go'"
      ]
     },
     "execution_count": 31,
     "metadata": {},
     "output_type": "execute_result"
    }
   ],
   "source": [
    "from nltk.stem import PorterStemmer,WordNetLemmatizer\n",
    "ps = PorterStemmer()\n",
    "ps.stem('going')"
   ]
  },
  {
   "cell_type": "code",
   "execution_count": 38,
   "id": "135bf126",
   "metadata": {},
   "outputs": [
    {
     "data": {
      "text/plain": [
       "'good'"
      ]
     },
     "execution_count": 38,
     "metadata": {},
     "output_type": "execute_result"
    }
   ],
   "source": [
    "lemma = WordNetLemmatizer()\n",
    "lemma.lemmatize('better',wordnet.ADJ)"
   ]
  },
  {
   "cell_type": "code",
   "execution_count": 45,
   "id": "d0f469dc",
   "metadata": {},
   "outputs": [],
   "source": [
    "syns = wordnet.synsets('plan')"
   ]
  },
  {
   "cell_type": "code",
   "execution_count": 63,
   "id": "fa855468",
   "metadata": {},
   "outputs": [
    {
     "name": "stdout",
     "output_type": "stream",
     "text": [
      "{'winnings', 'make_headway', 'succeed', 'come_through', 'get_ahead', 'bring_home_the_bacon', 'deliver_the_goods', 'acquire', 'gain', 'pull_ahead', 'gain_ground', 'win', 'advance', 'profits'}\n"
     ]
    }
   ],
   "source": [
    "syns=[]\n",
    "ants=[]\n",
    "for i in wordnet.synsets('win'):\n",
    "    for l in i.lemmas():\n",
    "        syns.append(l.name())\n",
    "        if l.antonyms():\n",
    "            ants.append(l.antonyms()[0].name())\n",
    "\n",
    "print(set(syns))"
   ]
  },
  {
   "cell_type": "code",
   "execution_count": 64,
   "id": "37f22ce2",
   "metadata": {},
   "outputs": [
    {
     "data": {
      "text/plain": [
       "['losings', 'lose', 'lose', 'fall_back', 'fail']"
      ]
     },
     "execution_count": 64,
     "metadata": {},
     "output_type": "execute_result"
    }
   ],
   "source": [
    "ants"
   ]
  },
  {
   "cell_type": "code",
   "execution_count": 79,
   "id": "e8ea125f",
   "metadata": {},
   "outputs": [
    {
     "data": {
      "text/plain": [
       "0.782608695652174"
      ]
     },
     "execution_count": 79,
     "metadata": {},
     "output_type": "execute_result"
    }
   ],
   "source": [
    "w1 = wordnet.synset('ship.n.01')\n",
    "w2 = wordnet.synset('plane.n.01')\n",
    "\n",
    "w1.wup_similarity(w2)"
   ]
  },
  {
   "cell_type": "code",
   "execution_count": null,
   "id": "ad99f239",
   "metadata": {},
   "outputs": [],
   "source": []
  }
 ],
 "metadata": {
  "kernelspec": {
   "display_name": "Python 3 (ipykernel)",
   "language": "python",
   "name": "python3"
  },
  "language_info": {
   "codemirror_mode": {
    "name": "ipython",
    "version": 3
   },
   "file_extension": ".py",
   "mimetype": "text/x-python",
   "name": "python",
   "nbconvert_exporter": "python",
   "pygments_lexer": "ipython3",
   "version": "3.11.4"
  }
 },
 "nbformat": 4,
 "nbformat_minor": 5
}
