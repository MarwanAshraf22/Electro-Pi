{
 "cells": [
  {
   "cell_type": "code",
   "execution_count": 1,
   "id": "712c128c",
   "metadata": {},
   "outputs": [],
   "source": [
    "import numpy as np\n",
    "import cv2"
   ]
  },
  {
   "cell_type": "code",
   "execution_count": 4,
   "id": "0b4fba60",
   "metadata": {},
   "outputs": [],
   "source": [
    "cap = cv2.VideoCapture(0)\n",
    "while(1) :\n",
    "    ret,frame = cap.read()\n",
    "    if ret : \n",
    "        hsv = cv2.cvtColor(frame,cv2.COLOR_BGR2HSV)\n",
    "        lower_limit = np.array([50,50,50])\n",
    "        upper_limit = np.array([255,255,255])\n",
    "        mask = cv2.inRange(hsv,lower_limit,upper_limit)\n",
    "        res = cv2.bitwise_and(frame,frame,mask=mask)\n",
    "        cv2.imshow('mask',mask)\n",
    "        cv2.imshow('original',frame)\n",
    "        cv2.imshow('res',res)\n",
    "        if cv2.waitKey(10) & 0XFF == ord('q') :\n",
    "            break \n",
    "cap.release()\n",
    "cv2.destroyAllWindows()"
   ]
  },
  {
   "cell_type": "code",
   "execution_count": null,
   "id": "fd532949",
   "metadata": {},
   "outputs": [],
   "source": []
  }
 ],
 "metadata": {
  "kernelspec": {
   "display_name": "Python 3 (ipykernel)",
   "language": "python",
   "name": "python3"
  },
  "language_info": {
   "codemirror_mode": {
    "name": "ipython",
    "version": 3
   },
   "file_extension": ".py",
   "mimetype": "text/x-python",
   "name": "python",
   "nbconvert_exporter": "python",
   "pygments_lexer": "ipython3",
   "version": "3.11.3"
  }
 },
 "nbformat": 4,
 "nbformat_minor": 5
}
