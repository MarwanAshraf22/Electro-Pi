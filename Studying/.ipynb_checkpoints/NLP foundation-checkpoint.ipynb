{
 "cells": [
  {
   "cell_type": "code",
   "execution_count": 1,
   "id": "98d9083f",
   "metadata": {},
   "outputs": [],
   "source": [
    "import nltk"
   ]
  },
  {
   "cell_type": "code",
   "execution_count": 2,
   "id": "88a1e3a1",
   "metadata": {
    "scrolled": true
   },
   "outputs": [
    {
     "name": "stdout",
     "output_type": "stream",
     "text": [
      "showing info https://raw.githubusercontent.com/nltk/nltk_data/gh-pages/index.xml\n"
     ]
    },
    {
     "data": {
      "text/plain": [
       "True"
      ]
     },
     "execution_count": 2,
     "metadata": {},
     "output_type": "execute_result"
    }
   ],
   "source": [
    "nltk.download()"
   ]
  },
  {
   "cell_type": "code",
   "execution_count": 9,
   "id": "4ee0418c",
   "metadata": {},
   "outputs": [
    {
     "data": {
      "text/plain": [
       "['i',\n",
       " 'like',\n",
       " 'to',\n",
       " 'play',\n",
       " 'football',\n",
       " '.',\n",
       " 'also',\n",
       " 'i',\n",
       " 'like',\n",
       " 'soccer',\n",
       " '.']"
      ]
     },
     "execution_count": 9,
     "metadata": {},
     "output_type": "execute_result"
    }
   ],
   "source": [
    "sent= 'i like to play football. also i like soccer.'\n",
    "\n",
    "nltk.word_tokenize(sent)"
   ]
  },
  {
   "cell_type": "code",
   "execution_count": 10,
   "id": "2af162a8",
   "metadata": {},
   "outputs": [
    {
     "data": {
      "text/plain": [
       "['i like to play football.', 'also i like soccer.']"
      ]
     },
     "execution_count": 10,
     "metadata": {},
     "output_type": "execute_result"
    }
   ],
   "source": [
    "nltk.sent_tokenize(sent)"
   ]
  },
  {
   "cell_type": "code",
   "execution_count": 28,
   "id": "f1a45f20",
   "metadata": {},
   "outputs": [],
   "source": [
    "sent = 'I myself like to play football'\n"
   ]
  },
  {
   "cell_type": "code",
   "execution_count": 34,
   "id": "039b07fc",
   "metadata": {},
   "outputs": [],
   "source": [
    "from nltk.corpus import stopwords,wordnet\n",
    "stopword = stopwords.words('english')"
   ]
  },
  {
   "cell_type": "code",
   "execution_count": 30,
   "id": "a386bf3e",
   "metadata": {},
   "outputs": [
    {
     "data": {
      "text/plain": [
       "['I', 'like', 'play', 'football']"
      ]
     },
     "execution_count": 30,
     "metadata": {},
     "output_type": "execute_result"
    }
   ],
   "source": [
    "[w for w in nltk.word_tokenize(sent) if w not in stopword]"
   ]
  },
  {
   "cell_type": "code",
   "execution_count": 31,
   "id": "0586ae21",
   "metadata": {},
   "outputs": [
    {
     "data": {
      "text/plain": [
       "'go'"
      ]
     },
     "execution_count": 31,
     "metadata": {},
     "output_type": "execute_result"
    }
   ],
   "source": [
    "from nltk.stem import PorterStemmer,WordNetLemmatizer\n",
    "ps = PorterStemmer()\n",
    "ps.stem('going')"
   ]
  },
  {
   "cell_type": "code",
   "execution_count": 38,
   "id": "5de2a5dc",
   "metadata": {},
   "outputs": [
    {
     "data": {
      "text/plain": [
       "'good'"
      ]
     },
     "execution_count": 38,
     "metadata": {},
     "output_type": "execute_result"
    }
   ],
   "source": [
    "lemma = WordNetLemmatizer()\n",
    "lemma.lemmatize('better',wordnet.ADJ)"
   ]
  },
  {
   "cell_type": "code",
   "execution_count": 41,
   "id": "6d802a41",
   "metadata": {},
   "outputs": [],
   "source": [
    "syns = wordnet.synsets('go')"
   ]
  },
  {
   "cell_type": "code",
   "execution_count": null,
   "id": "6486ea14",
   "metadata": {},
   "outputs": [],
   "source": []
  }
 ],
 "metadata": {
  "kernelspec": {
   "display_name": "Python 3 (ipykernel)",
   "language": "python",
   "name": "python3"
  },
  "language_info": {
   "codemirror_mode": {
    "name": "ipython",
    "version": 3
   },
   "file_extension": ".py",
   "mimetype": "text/x-python",
   "name": "python",
   "nbconvert_exporter": "python",
   "pygments_lexer": "ipython3",
   "version": "3.11.4"
  }
 },
 "nbformat": 4,
 "nbformat_minor": 5
}
