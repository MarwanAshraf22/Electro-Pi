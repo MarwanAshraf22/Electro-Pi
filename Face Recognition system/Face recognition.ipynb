{
 "cells": [
  {
   "cell_type": "code",
   "execution_count": 1,
   "id": "66b869c8",
   "metadata": {},
   "outputs": [],
   "source": [
    "import os\n",
    "import numpy as np\n",
    "import cv2\n",
    "import warnings\n",
    "warnings.filterwarnings('ignore')"
   ]
  },
  {
   "cell_type": "code",
   "execution_count": 2,
   "id": "08186d00",
   "metadata": {},
   "outputs": [],
   "source": [
    "os.mkdir('Train')\n",
    "os.mkdir('Test')"
   ]
  },
  {
   "cell_type": "code",
   "execution_count": 3,
   "id": "6a861135",
   "metadata": {},
   "outputs": [
    {
     "name": "stdout",
     "output_type": "stream",
     "text": [
      "Please enter your name :Marwan\n"
     ]
    }
   ],
   "source": [
    "user = input('Please enter your name :')\n",
    "os.mkdir('Train/'+user)\n",
    "os.mkdir('Test/'+user)\n",
    "count = 0\n",
    "cap = cv2.VideoCapture(0)\n",
    "while(1) :\n",
    "    ret,frame = cap.read()\n",
    "    if ret : \n",
    "        cv2.imshow('frame',frame)\n",
    "        if cv2.waitKey(10) & 0XFF == ord('s') :\n",
    "            count+=1\n",
    "            cv2.imwrite('Train/'+user+'/'+str(count)+'.jpg',frame)\n",
    "        if cv2.waitKey(10) & 0XFF == ord('q') :\n",
    "            break\n",
    "cap.release()\n",
    "cv2.destroyAllWindows()"
   ]
  },
  {
   "cell_type": "code",
   "execution_count": null,
   "id": "73ce5256",
   "metadata": {},
   "outputs": [],
   "source": []
  }
 ],
 "metadata": {
  "kernelspec": {
   "display_name": "Python 3 (ipykernel)",
   "language": "python",
   "name": "python3"
  },
  "language_info": {
   "codemirror_mode": {
    "name": "ipython",
    "version": 3
   },
   "file_extension": ".py",
   "mimetype": "text/x-python",
   "name": "python",
   "nbconvert_exporter": "python",
   "pygments_lexer": "ipython3",
   "version": "3.11.4"
  }
 },
 "nbformat": 4,
 "nbformat_minor": 5
}
